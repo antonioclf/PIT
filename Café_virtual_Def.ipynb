{
  "nbformat": 4,
  "nbformat_minor": 0,
  "metadata": {
    "colab": {
      "provenance": []
    },
    "kernelspec": {
      "name": "python3",
      "display_name": "Python 3"
    },
    "language_info": {
      "name": "python"
    }
  },
  "cells": [
    {
      "cell_type": "code",
      "execution_count": 1,
      "metadata": {
        "colab": {
          "base_uri": "https://localhost:8080/"
        },
        "id": "vsdG6IhEW6cl",
        "outputId": "88e668a6-d3df-497d-cee7-fed5f2283edb"
      },
      "outputs": [
        {
          "output_type": "stream",
          "name": "stdout",
          "text": [
            "Conexão ao SQLite estabelecida.\n"
          ]
        }
      ],
      "source": [
        "import sqlite3\n",
        "\n",
        "# Criar ou conectar ao banco de dados SQLite\n",
        "conexao = sqlite3.connect(\"loja_cafe.db\")  # O banco será salvo como \"loja_cafe.db\"\n",
        "cursor = conexao.cursor()\n",
        "print(\"Conexão ao SQLite estabelecida.\")"
      ]
    },
    {
      "cell_type": "code",
      "source": [
        "# Script SQL para criar as tabelas\n",
        "script_sql = \"\"\"\n",
        "CREATE TABLE IF NOT EXISTS usuarios (\n",
        "    id_usuario INTEGER PRIMARY KEY AUTOINCREMENT,\n",
        "    cpf TEXT UNIQUE,  -- Coluna CPF com tipo TEXT e restrição UNIQUE\n",
        "    nome TEXT NOT NULL,\n",
        "    email TEXT NOT NULL,\n",
        "    endereco TEXT\n",
        ");\n",
        "\n",
        "CREATE TABLE IF NOT EXISTS produtos (\n",
        "    id_produto INTEGER PRIMARY KEY AUTOINCREMENT,\n",
        "    nome TEXT NOT NULL,\n",
        "    preco REAL NOT NULL,\n",
        "    estoque INTEGER DEFAULT 0\n",
        ");\n",
        "\n",
        "CREATE TABLE IF NOT EXISTS pedidos (\n",
        "    id_pedido INTEGER PRIMARY KEY AUTOINCREMENT,\n",
        "    id_usuario INTEGER NOT NULL,\n",
        "    total REAL NOT NULL,\n",
        "    FOREIGN KEY (id_usuario) REFERENCES usuarios (id_usuario)\n",
        ");\n",
        "\n",
        "CREATE TABLE IF NOT EXISTS entregas (\n",
        "    id_entrega INTEGER PRIMARY KEY AUTOINCREMENT,\n",
        "    id_pedido INTEGER NOT NULL,\n",
        "    id_usuario INTEGER NOT NULL,\n",
        "    data_entrega DATE,\n",
        "    FOREIGN KEY (id_pedido) REFERENCES pedidos (id_pedido),\n",
        "    FOREIGN KEY (id_usuario) REFERENCES usuarios (id_usuario)\n",
        ");\n",
        "\"\"\"\n",
        "\n",
        "# Executar o script\n",
        "cursor.executescript(script_sql)\n",
        "conexao.commit()\n",
        "print(\"Tabelas criadas com sucesso!\")"
      ],
      "metadata": {
        "colab": {
          "base_uri": "https://localhost:8080/"
        },
        "id": "iZclcLg5XBSu",
        "outputId": "7049d5eb-8570-468e-a2eb-8019b70890af"
      },
      "execution_count": 2,
      "outputs": [
        {
          "output_type": "stream",
          "name": "stdout",
          "text": [
            "Tabelas criadas com sucesso!\n"
          ]
        }
      ]
    },
    {
      "cell_type": "code",
      "source": [
        "#inserção de produtos\n",
        "produtos = [\n",
        "    (\"Café Expresso\", 30.00, 100),\n",
        "    (\"Café Especial\", 30.00, 100),\n",
        "    (\"Café em cápsulas - 10 unidades\", 27.00, 100),\n",
        "    (\"Capuccino cremoso\", 40.00, 50),\n",
        "    (\"Kit com jarra, suporte e filtro\", 130.00, 50)\n",
        "]\n",
        "\n",
        "cursor.executemany(\"\"\"\n",
        "INSERT INTO produtos (nome, preco, estoque)\n",
        "VALUES (?, ?, ?)\n",
        "\"\"\", produtos)\n",
        "\n",
        "conexao.commit()\n",
        "print(\"Produtos inseridos com sucesso!\")"
      ],
      "metadata": {
        "colab": {
          "base_uri": "https://localhost:8080/"
        },
        "id": "q92WENvUXE8N",
        "outputId": "cda1bfd5-2fd3-4c72-e083-1372ec8ace07"
      },
      "execution_count": 3,
      "outputs": [
        {
          "output_type": "stream",
          "name": "stdout",
          "text": [
            "Produtos inseridos com sucesso!\n"
          ]
        }
      ]
    },
    {
      "cell_type": "code",
      "source": [
        "# Inserir usuários\n",
        "usuarios = [\n",
        "    (\"Alice\", \"alice@email.com\", \"Rua A, 123\"),\n",
        "    (\"Bob\", \"bob@email.com\", \"Rua B, 456\")\n",
        "]\n",
        "\n",
        "cursor.executemany(\"\"\"\n",
        "INSERT INTO usuarios (nome, email, endereco)\n",
        "VALUES (?, ?, ?)\n",
        "\"\"\", usuarios)\n",
        "\n",
        "conexao.commit()\n",
        "print(\"Usuários inseridos com sucesso!\")"
      ],
      "metadata": {
        "colab": {
          "base_uri": "https://localhost:8080/"
        },
        "id": "GOPT2VgJXI6F",
        "outputId": "672b1b40-5f19-4485-86c9-695dddfbf5d3"
      },
      "execution_count": 7,
      "outputs": [
        {
          "output_type": "stream",
          "name": "stdout",
          "text": [
            "Usuários inseridos com sucesso!\n"
          ]
        }
      ]
    },
    {
      "cell_type": "code",
      "source": [
        "# Consulta para listar os produtos disponíveis (estoque > 0)\n",
        "cursor.execute(\"\"\"\n",
        "SELECT nome, preco, estoque\n",
        "FROM produtos\n",
        "WHERE estoque > 0;\n",
        "\"\"\")\n",
        "\n",
        "produtos_disponiveis = cursor.fetchall()\n",
        "\n",
        "# Exibir os resultados\n",
        "print(\"Produtos disponíveis:\")\n",
        "for produto in produtos_disponiveis:\n",
        "    nome, preco, estoque = produto\n",
        "    print(f\"Nome: {nome}, Preço: R$ {preco:.2f}, Estoque: {estoque}\")"
      ],
      "metadata": {
        "colab": {
          "base_uri": "https://localhost:8080/"
        },
        "id": "4L1uxHllXa2-",
        "outputId": "ae748f06-09f1-4538-dfb0-d173c2a0fa8e"
      },
      "execution_count": 8,
      "outputs": [
        {
          "output_type": "stream",
          "name": "stdout",
          "text": [
            "Produtos disponíveis:\n",
            "Nome: Café Expresso, Preço: R$ 30.00, Estoque: 100\n",
            "Nome: Café Especial, Preço: R$ 30.00, Estoque: 100\n",
            "Nome: Café em cápsulas - 10 unidades, Preço: R$ 27.00, Estoque: 100\n",
            "Nome: Capuccino cremoso, Preço: R$ 40.00, Estoque: 50\n",
            "Nome: Kit com jarra, suporte e filtro, Preço: R$ 130.00, Estoque: 50\n"
          ]
        }
      ]
    }
  ]
}